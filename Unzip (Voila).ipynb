{
 "cells": [
  {
   "cell_type": "code",
   "execution_count": 25,
   "id": "59df3bb5",
   "metadata": {},
   "outputs": [],
   "source": [
    "import os\n",
    "from zipfile import ZipFile\n",
    "import ipywidgets as widgets\n",
    "import voila\n",
    "from IPython.display import display"
   ]
  },
  {
   "cell_type": "code",
   "execution_count": 31,
   "id": "26e6871e",
   "metadata": {},
   "outputs": [],
   "source": [
    "file_directory_input = widgets.Text(\n",
    "    value='',\n",
    "    placeholder='Enter zip file location',\n",
    "    description='File Location',\n",
    "    disabled=False\n",
    ")\n",
    "extracted_directory_input = widgets.Text(\n",
    "    value='',\n",
    "    placeholder='Enter location for file extraction',\n",
    "    description='Extracted Location',\n",
    "    disabled=False\n",
    ")\n",
    "\n",
    "unzip_button = widgets.Button(\n",
    "    description=\"Unzip Files\"\n",
    ")"
   ]
  },
  {
   "cell_type": "code",
   "execution_count": 32,
   "id": "d0ef1e59",
   "metadata": {},
   "outputs": [],
   "source": [
    "output_text = widgets.Output()"
   ]
  },
  {
   "cell_type": "code",
   "execution_count": 28,
   "id": "44ec1bc3",
   "metadata": {},
   "outputs": [],
   "source": [
    "def unzip_files(zip_directory, extracted_directory):\n",
    "    zip_files_found = False\n",
    "    try:\n",
    "        with os.scandir(zip_directory) as entries:\n",
    "            for entry in entries:\n",
    "                if entry.is_file() and entry.name.endswith('.zip'):\n",
    "                    zip_files_found = True\n",
    "                    with ZipFile(entry, 'r') as zip_ref:\n",
    "                        zip_ref.extractall(extracted_directory)\n",
    "        if zip_files_found:\n",
    "            return \"Files successfully unzipped\"\n",
    "        else:\n",
    "            return \"No ZIP files found in specified directory\"\n",
    "    except Exception as e:\n",
    "        return f\"An error occurred: {str(e)}\""
   ]
  },
  {
   "cell_type": "code",
   "execution_count": 29,
   "id": "e714495e",
   "metadata": {},
   "outputs": [],
   "source": [
    "def on_unzip_button_click(b):\n",
    "    zip_directory = file_directory_input.value\n",
    "    extracted_directory = extracted_directory_input.value \n",
    "    result = unzip_files(zip_directory, extracted_directory)\n",
    "    with output_text:\n",
    "            print(result)"
   ]
  },
  {
   "cell_type": "code",
   "execution_count": 33,
   "id": "5c2b4401",
   "metadata": {},
   "outputs": [
    {
     "data": {
      "application/vnd.jupyter.widget-view+json": {
       "model_id": "df7c20e2c81847498ded686365f005c0",
       "version_major": 2,
       "version_minor": 0
      },
      "text/plain": [
       "Text(value='', description='File Location', placeholder='Enter zip file location')"
      ]
     },
     "metadata": {},
     "output_type": "display_data"
    },
    {
     "data": {
      "application/vnd.jupyter.widget-view+json": {
       "model_id": "95dfbe8a3c3e4bb9a22a11a1d7640971",
       "version_major": 2,
       "version_minor": 0
      },
      "text/plain": [
       "Text(value='', description='Extracted Location', placeholder='Enter location for file extraction')"
      ]
     },
     "metadata": {},
     "output_type": "display_data"
    },
    {
     "data": {
      "application/vnd.jupyter.widget-view+json": {
       "model_id": "58d8ce7d85ab4fee975f9668db02d231",
       "version_major": 2,
       "version_minor": 0
      },
      "text/plain": [
       "Button(description='Unzip Files', style=ButtonStyle())"
      ]
     },
     "metadata": {},
     "output_type": "display_data"
    },
    {
     "data": {
      "application/vnd.jupyter.widget-view+json": {
       "model_id": "6974a8e904ee4f0fb105b337935e8b1b",
       "version_major": 2,
       "version_minor": 0
      },
      "text/plain": [
       "Output()"
      ]
     },
     "metadata": {},
     "output_type": "display_data"
    }
   ],
   "source": [
    "unzip_button.on_click(on_unzip_button_click)\n",
    "\n",
    "display(file_directory_input, extracted_directory_input, unzip_button, output_text)"
   ]
  },
  {
   "cell_type": "code",
   "execution_count": null,
   "id": "8618fc69",
   "metadata": {},
   "outputs": [],
   "source": []
  }
 ],
 "metadata": {
  "kernelspec": {
   "display_name": "Python 3 (ipykernel)",
   "language": "python",
   "name": "python3"
  },
  "language_info": {
   "codemirror_mode": {
    "name": "ipython",
    "version": 3
   },
   "file_extension": ".py",
   "mimetype": "text/x-python",
   "name": "python",
   "nbconvert_exporter": "python",
   "pygments_lexer": "ipython3",
   "version": "3.10.13"
  }
 },
 "nbformat": 4,
 "nbformat_minor": 5
}
